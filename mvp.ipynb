{
 "cells": [
  {
   "cell_type": "code",
   "execution_count": 1,
   "metadata": {},
   "outputs": [
    {
     "name": "stdout",
     "output_type": "stream",
     "text": [
      "{'data': {'share': {'title': 'Die wertvollste Elf International', 'url': 'https://www.transfermarkt.de/spieler-statistik/teuersteelf/marktwertetop', 'description': 'Mit diesem Tool kann die wertvollste Elf International aufgestellt werden. Diese kann individuell anhand von verschiedenen Formationen, Haupt- und Nebenpositionen, Altersklassen sowie Nationalitäten angepasst werden.'}, 'players': [{'clubID': '720', 'clubName': 'FC Porto', 'clubShortName': 'FC Porto', 'clubImage': 'https://tmssl.akamaized.net/images/wappen/medium/720.png?lm=1486310161', 'id': '357153', 'playerImage': 'https://img.a.transfermarkt.technology/portrait/medium/357153-1542105514.png?lm=1', 'playerName': 'Diogo Costa', 'firstName': 'Diogo', 'lastName': 'Costa', 'alias': '', 'personID': '400787', 'currentPositionShort': 'TW', 'currentPosition': 'Torwart', 'mainPositionShort': 'TW', 'mainPosition': 'Torwart', 'secondaryPosition1Short': '', 'secondaryPosition1': '', 'secondaryPosition2Short': '', 'secondaryPosition2': '', 'age': '24', 'birthday': '19.09.1999', 'marketValue': '45,00', 'marketValueCurrency': '€', 'marketValueNumeral': 'Mio.', 'marketValueUnformatted': 45000000, 'shirtNumber': '99', 'countryImage': 'https://tmssl.akamaized.net/images/flagge/verysmall/136.png?lm=1520611569'}, {'clubID': '281', 'clubName': 'Manchester City', 'clubShortName': 'Manchester City', 'clubImage': 'https://tmssl.akamaized.net/images/wappen/medium/281.png?lm=1467356331', 'id': '475959', 'playerImage': 'https://img.a.transfermarkt.technology/portrait/medium/475959-1663685941.jpg?lm=1', 'playerName': 'Josko Gvardiol', 'firstName': 'Josko', 'lastName': 'Gvardiol', 'alias': '', 'personID': '536971', 'currentPositionShort': 'IV', 'currentPosition': 'Innenverteidiger', 'mainPositionShort': 'IV', 'mainPosition': 'Innenverteidiger', 'secondaryPosition1Short': 'LV', 'secondaryPosition1': 'Linker Verteidiger', 'secondaryPosition2Short': '', 'secondaryPosition2': '', 'age': '22', 'birthday': '23.01.2002', 'marketValue': '80,00', 'marketValueCurrency': '€', 'marketValueNumeral': 'Mio.', 'marketValueUnformatted': 80000000, 'shirtNumber': '24', 'countryImage': 'https://tmssl.akamaized.net/images/flagge/verysmall/37.png?lm=1520611569'}, {'clubID': '281', 'clubName': 'Manchester City', 'clubShortName': 'Manchester City', 'clubImage': 'https://tmssl.akamaized.net/images/wappen/medium/281.png?lm=1467356331', 'id': '258004', 'playerImage': 'https://img.a.transfermarkt.technology/portrait/medium/258004-1684921271.jpg?lm=1', 'playerName': 'Rúben Dias', 'firstName': 'Rúben', 'lastName': 'Dias', 'alias': '', 'personID': '287886', 'currentPositionShort': 'IV', 'currentPosition': 'Innenverteidiger', 'mainPositionShort': 'IV', 'mainPosition': 'Innenverteidiger', 'secondaryPosition1Short': '', 'secondaryPosition1': '', 'secondaryPosition2Short': '', 'secondaryPosition2': '', 'age': '26', 'birthday': '14.05.1997', 'marketValue': '80,00', 'marketValueCurrency': '€', 'marketValueNumeral': 'Mio.', 'marketValueUnformatted': 80000000, 'shirtNumber': '3', 'countryImage': 'https://tmssl.akamaized.net/images/flagge/verysmall/136.png?lm=1520611569'}, {'clubID': '27', 'clubName': 'FC Bayern München', 'clubShortName': 'Bayern München', 'clubImage': 'https://tmssl.akamaized.net/images/wappen/medium/27.png?lm=1498251238', 'id': '424204', 'playerImage': 'https://img.a.transfermarkt.technology/portrait/medium/424204-1667830391.jpg?lm=1', 'playerName': 'Alphonso Davies', 'firstName': 'Alphonso', 'lastName': 'Davies', 'alias': '', 'personID': '478609', 'currentPositionShort': 'LV', 'currentPosition': 'Linker Verteidiger', 'mainPositionShort': 'LV', 'mainPosition': 'Linker Verteidiger', 'secondaryPosition1Short': 'LA', 'secondaryPosition1': 'Linksaußen', 'secondaryPosition2Short': 'LM', 'secondaryPosition2': 'Linkes Mittelfeld', 'age': '23', 'birthday': '02.11.2000', 'marketValue': '70,00', 'marketValueCurrency': '€', 'marketValueNumeral': 'Mio.', 'marketValueUnformatted': 70000000, 'shirtNumber': '19', 'countryImage': 'https://tmssl.akamaized.net/images/flagge/verysmall/80.png?lm=1520611569'}, {'clubID': '31', 'clubName': 'FC Liverpool', 'clubShortName': 'FC Liverpool', 'clubImage': 'https://tmssl.akamaized.net/images/wappen/medium/31.png?lm=1456567819', 'id': '314353', 'playerImage': 'https://img.a.transfermarkt.technology/portrait/medium/314353-1701680958.jpg?lm=1', 'playerName': 'T. Alexander-Arnold', 'firstName': 'Trent', 'lastName': 'Alexander-Arnold', 'alias': '', 'personID': '351072', 'currentPositionShort': 'RV', 'currentPosition': 'Rechter Verteidiger', 'mainPositionShort': 'RV', 'mainPosition': 'Rechter Verteidiger', 'secondaryPosition1Short': 'DM', 'secondaryPosition1': 'Defensives Mittelfeld', 'secondaryPosition2Short': 'ZM', 'secondaryPosition2': 'Zentrales Mittelfeld', 'age': '25', 'birthday': '07.10.1998', 'marketValue': '70,00', 'marketValueCurrency': '€', 'marketValueNumeral': 'Mio.', 'marketValueUnformatted': 70000000, 'shirtNumber': '66', 'countryImage': 'https://tmssl.akamaized.net/images/flagge/verysmall/189.png?lm=1520611569'}, {'clubID': '11', 'clubName': 'FC Arsenal', 'clubShortName': 'FC Arsenal', 'clubImage': 'https://tmssl.akamaized.net/images/wappen/medium/11.png?lm=1489787850', 'id': '357662', 'playerImage': 'https://img.a.transfermarkt.technology/portrait/medium/357662-1687962936.jpg?lm=1', 'playerName': 'Declan Rice', 'firstName': 'Declan', 'lastName': 'Rice', 'alias': '', 'personID': '401361', 'currentPositionShort': 'DM', 'currentPosition': 'Defensives Mittelfeld', 'mainPositionShort': 'DM', 'mainPosition': 'Defensives Mittelfeld', 'secondaryPosition1Short': 'IV', 'secondaryPosition1': 'Innenverteidiger', 'secondaryPosition2Short': 'ZM', 'secondaryPosition2': 'Zentrales Mittelfeld', 'age': '25', 'birthday': '14.01.1999', 'marketValue': '110,00', 'marketValueCurrency': '€', 'marketValueNumeral': 'Mio.', 'marketValueUnformatted': 110000000, 'shirtNumber': '41', 'countryImage': 'https://tmssl.akamaized.net/images/flagge/verysmall/189.png?lm=1520611569'}, {'clubID': '281', 'clubName': 'Manchester City', 'clubShortName': 'Manchester City', 'clubImage': 'https://tmssl.akamaized.net/images/wappen/medium/281.png?lm=1467356331', 'id': '357565', 'playerImage': 'https://img.a.transfermarkt.technology/portrait/medium/357565-1682587890.jpg?lm=1', 'playerName': 'Rodri', 'firstName': 'Rodrigo', 'lastName': 'Hernández Cascante', 'alias': 'Rodri', 'personID': '401239', 'currentPositionShort': 'DM', 'currentPosition': 'Defensives Mittelfeld', 'mainPositionShort': 'DM', 'mainPosition': 'Defensives Mittelfeld', 'secondaryPosition1Short': 'ZM', 'secondaryPosition1': 'Zentrales Mittelfeld', 'secondaryPosition2Short': 'IV', 'secondaryPosition2': 'Innenverteidiger', 'age': '27', 'birthday': '22.06.1996', 'marketValue': '110,00', 'marketValueCurrency': '€', 'marketValueNumeral': 'Mio.', 'marketValueUnformatted': 110000000, 'shirtNumber': '16', 'countryImage': 'https://tmssl.akamaized.net/images/flagge/verysmall/157.png?lm=1520611569'}, {'clubID': '11', 'clubName': 'FC Arsenal', 'clubShortName': 'FC Arsenal', 'clubImage': 'https://tmssl.akamaized.net/images/wappen/medium/11.png?lm=1489787850', 'id': '433177', 'playerImage': 'https://img.a.transfermarkt.technology/portrait/medium/433177-1684155052.jpg?lm=1', 'playerName': 'Bukayo Saka', 'firstName': 'Bukayo', 'lastName': 'Saka', 'alias': '', 'personID': '489080', 'currentPositionShort': 'RM', 'currentPosition': 'Rechtes Mittelfeld', 'mainPositionShort': 'RA', 'mainPosition': 'Rechtsaußen', 'secondaryPosition1Short': 'LA', 'secondaryPosition1': 'Linksaußen', 'secondaryPosition2Short': 'RM', 'secondaryPosition2': 'Rechtes Mittelfeld', 'age': '22', 'birthday': '05.09.2001', 'marketValue': '120,00', 'marketValueCurrency': '€', 'marketValueNumeral': 'Mio.', 'marketValueUnformatted': 120000000, 'shirtNumber': '7', 'countryImage': 'https://tmssl.akamaized.net/images/flagge/verysmall/189.png?lm=1520611569'}, {'clubID': '418', 'clubName': 'Real Madrid', 'clubShortName': 'Real Madrid', 'clubImage': 'https://tmssl.akamaized.net/images/wappen/medium/418.png?lm=1697726166', 'id': '371998', 'playerImage': 'https://img.a.transfermarkt.technology/portrait/medium/371998-1664869583.jpg?lm=1', 'playerName': 'Vinicius Junior', 'firstName': 'Vinicius José', 'lastName': 'Paixão de Oliveira Junior', 'alias': 'Vinicius Junior', 'personID': '417779', 'currentPositionShort': 'LM', 'currentPosition': 'Linkes Mittelfeld', 'mainPositionShort': 'LA', 'mainPosition': 'Linksaußen', 'secondaryPosition1Short': 'MS', 'secondaryPosition1': 'Mittelstürmer', 'secondaryPosition2Short': 'RA', 'secondaryPosition2': 'Rechtsaußen', 'age': '23', 'birthday': '12.07.2000', 'marketValue': '150,00', 'marketValueCurrency': '€', 'marketValueNumeral': 'Mio.', 'marketValueUnformatted': 150000000, 'shirtNumber': '7', 'countryImage': 'https://tmssl.akamaized.net/images/flagge/verysmall/26.png?lm=1520611569'}, {'clubID': '418', 'clubName': 'Real Madrid', 'clubShortName': 'Real Madrid', 'clubImage': 'https://tmssl.akamaized.net/images/wappen/medium/418.png?lm=1697726166', 'id': '581678', 'playerImage': 'https://img.a.transfermarkt.technology/portrait/medium/581678-1693987944.jpg?lm=1', 'playerName': 'Jude Bellingham', 'firstName': 'Jude', 'lastName': 'Bellingham', 'alias': '', 'personID': '655658', 'currentPositionShort': 'OM', 'currentPosition': 'Offensives Mittelfeld', 'mainPositionShort': 'OM', 'mainPosition': 'Offensives Mittelfeld', 'secondaryPosition1Short': 'ZM', 'secondaryPosition1': 'Zentrales Mittelfeld', 'secondaryPosition2Short': '', 'secondaryPosition2': '', 'age': '20', 'birthday': '29.06.2003', 'marketValue': '180,00', 'marketValueCurrency': '€', 'marketValueNumeral': 'Mio.', 'marketValueUnformatted': 180000000, 'shirtNumber': '5', 'countryImage': 'https://tmssl.akamaized.net/images/flagge/verysmall/189.png?lm=1520611569'}, {'clubID': '583', 'clubName': 'FC Paris Saint-Germain', 'clubShortName': 'Paris SG', 'clubImage': 'https://tmssl.akamaized.net/images/wappen/medium/583.png?lm=1522312728', 'id': '342229', 'playerImage': 'https://img.a.transfermarkt.technology/portrait/medium/342229-1682683695.jpg?lm=1', 'playerName': 'Kylian Mbappé', 'firstName': 'Kylian', 'lastName': 'Mbappé', 'alias': '', 'personID': '382916', 'currentPositionShort': 'MS', 'currentPosition': 'Mittelstürmer', 'mainPositionShort': 'MS', 'mainPosition': 'Mittelstürmer', 'secondaryPosition1Short': 'LA', 'secondaryPosition1': 'Linksaußen', 'secondaryPosition2Short': 'RA', 'secondaryPosition2': 'Rechtsaußen', 'age': '25', 'birthday': '20.12.1998', 'marketValue': '180,00', 'marketValueCurrency': '€', 'marketValueNumeral': 'Mio.', 'marketValueUnformatted': 180000000, 'shirtNumber': '7', 'countryImage': 'https://tmssl.akamaized.net/images/flagge/verysmall/50.png?lm=1520611569'}], 'allTactics': {'currentTacticID': 16, 'tactics': [{'tacticID': '1', 'tactic': '?'}, {'tacticID': '12', 'tactic': '3-1-4-2'}, {'tacticID': '17', 'tactic': '3-3-3-1'}, {'tacticID': '29', 'tactic': '3-4-1-2'}, {'tacticID': '13', 'tactic': '3-4-2-1'}, {'tacticID': '8', 'tactic': '3-4-3'}, {'tacticID': '24', 'tactic': '3-4-3 flach'}, {'tacticID': '9', 'tactic': '3-5-2'}, {'tacticID': '26', 'tactic': '3-5-2 flach'}, {'tacticID': '15', 'tactic': '3-5-2 offensiv'}, {'tacticID': '19', 'tactic': '4-1-3-2'}, {'tacticID': '14', 'tactic': '4-1-4-1'}, {'tacticID': '16', 'tactic': '4-2-3-1 '}, {'tacticID': '20', 'tactic': '4-3-1-2'}, {'tacticID': '18', 'tactic': '4-3-2-1'}, {'tacticID': '3', 'tactic': '4-3-3 defensiv'}, {'tacticID': '25', 'tactic': '4-3-3 Libero'}, {'tacticID': '10', 'tactic': '4-3-3 offensiv'}, {'tacticID': '23', 'tactic': '4-4-1-1'}, {'tacticID': '11', 'tactic': '4-4-2'}, {'tacticID': '4', 'tactic': '4-4-2 doppel 6'}, {'tacticID': '27', 'tactic': '4-4-2 Libero flach'}, {'tacticID': '28', 'tactic': '4-4-2 Libero Raute'}, {'tacticID': '2', 'tactic': '4-4-2 Raute'}, {'tacticID': '5', 'tactic': '4-5-1'}, {'tacticID': '22', 'tactic': '4-5-1 flach'}, {'tacticID': '6', 'tactic': '5-3-2'}, {'tacticID': '7', 'tactic': '5-4-1'}, {'tacticID': '21', 'tactic': '5-4-1 flach'}]}}}\n"
     ]
    }
   ],
   "source": [
    "import requests\n",
    "\n",
    "url = \"https://transfermarkt-db.p.rapidapi.com/v1/markets/most-valuable-players\"\n",
    "\n",
    "querystring = {\"locale\":\"DE\"}\n",
    "\n",
    "headers = {\n",
    "\t\"X-RapidAPI-Key\": \"de0d601b2cmsh8de344ce1e5998fp159ceejsn547abd8fe47b\",\n",
    "\t\"X-RapidAPI-Host\": \"transfermarkt-db.p.rapidapi.com\"\n",
    "}\n",
    "\n",
    "response = requests.get(url, headers=headers, params=querystring)\n",
    "\n",
    "print(response.json())"
   ]
  },
  {
   "cell_type": "code",
   "execution_count": 2,
   "metadata": {},
   "outputs": [
    {
     "name": "stdout",
     "output_type": "stream",
     "text": [
      "Diogo Costa https://img.a.transfermarkt.technology/portrait/medium/357153-1542105514.png?lm=1 24 FC Porto https://tmssl.akamaized.net/images/wappen/medium/720.png?lm=1486310161 Torwart 45000000\n",
      "Josko Gvardiol https://img.a.transfermarkt.technology/portrait/medium/475959-1663685941.jpg?lm=1 22 Manchester City https://tmssl.akamaized.net/images/wappen/medium/281.png?lm=1467356331 Innenverteidiger 80000000\n",
      "Rúben Dias https://img.a.transfermarkt.technology/portrait/medium/258004-1684921271.jpg?lm=1 26 Manchester City https://tmssl.akamaized.net/images/wappen/medium/281.png?lm=1467356331 Innenverteidiger 80000000\n",
      "Alphonso Davies https://img.a.transfermarkt.technology/portrait/medium/424204-1667830391.jpg?lm=1 23 FC Bayern München https://tmssl.akamaized.net/images/wappen/medium/27.png?lm=1498251238 Linker Verteidiger 70000000\n",
      "T. Alexander-Arnold https://img.a.transfermarkt.technology/portrait/medium/314353-1701680958.jpg?lm=1 25 FC Liverpool https://tmssl.akamaized.net/images/wappen/medium/31.png?lm=1456567819 Rechter Verteidiger 70000000\n",
      "Declan Rice https://img.a.transfermarkt.technology/portrait/medium/357662-1687962936.jpg?lm=1 25 FC Arsenal https://tmssl.akamaized.net/images/wappen/medium/11.png?lm=1489787850 Defensives Mittelfeld 110000000\n",
      "Rodri https://img.a.transfermarkt.technology/portrait/medium/357565-1682587890.jpg?lm=1 27 Manchester City https://tmssl.akamaized.net/images/wappen/medium/281.png?lm=1467356331 Defensives Mittelfeld 110000000\n",
      "Bukayo Saka https://img.a.transfermarkt.technology/portrait/medium/433177-1684155052.jpg?lm=1 22 FC Arsenal https://tmssl.akamaized.net/images/wappen/medium/11.png?lm=1489787850 Rechtes Mittelfeld 120000000\n",
      "Vinicius Junior https://img.a.transfermarkt.technology/portrait/medium/371998-1664869583.jpg?lm=1 23 Real Madrid https://tmssl.akamaized.net/images/wappen/medium/418.png?lm=1697726166 Linkes Mittelfeld 150000000\n",
      "Jude Bellingham https://img.a.transfermarkt.technology/portrait/medium/581678-1693987944.jpg?lm=1 20 Real Madrid https://tmssl.akamaized.net/images/wappen/medium/418.png?lm=1697726166 Offensives Mittelfeld 180000000\n",
      "Kylian Mbappé https://img.a.transfermarkt.technology/portrait/medium/342229-1682683695.jpg?lm=1 25 FC Paris Saint-Germain https://tmssl.akamaized.net/images/wappen/medium/583.png?lm=1522312728 Mittelstürmer 180000000\n"
     ]
    }
   ],
   "source": [
    "MVP = response.json()\n",
    "\n",
    "for i in MVP['data']['players']:\n",
    "    print(i['playerName'],i['playerImage'],i['age'], i['clubName'], i['clubImage'], i['currentPosition'], i['marketValueUnformatted'] )"
   ]
  }
 ],
 "metadata": {
  "kernelspec": {
   "display_name": "Python 3",
   "language": "python",
   "name": "python3"
  },
  "language_info": {
   "codemirror_mode": {
    "name": "ipython",
    "version": 3
   },
   "file_extension": ".py",
   "mimetype": "text/x-python",
   "name": "python",
   "nbconvert_exporter": "python",
   "pygments_lexer": "ipython3",
   "version": "3.10.8"
  }
 },
 "nbformat": 4,
 "nbformat_minor": 2
}
